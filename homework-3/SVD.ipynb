{
 "cells": [
  {
   "cell_type": "markdown",
   "id": "2cb283cb",
   "metadata": {},
   "source": [
    "# Задание\n",
    "\n",
    "Реализовать алгоритм SVD-разложения на цветных картинках для разных количеств r сингулярных значений."
   ]
  },
  {
   "cell_type": "markdown",
   "id": "07958b60",
   "metadata": {},
   "source": [
    "## Пункт первый. Подготовка\n",
    "\n",
    "Импортируем нужные библиотеки. Из библиотеки PIL для работы с изображениями потребуется импортировать класс Image. Для работы с матрицами импортируем библиотеку numpy."
   ]
  },
  {
   "cell_type": "code",
   "execution_count": 1,
   "id": "3f059e09",
   "metadata": {},
   "outputs": [],
   "source": [
    "from PIL import Image\n",
    "import numpy as np"
   ]
  },
  {
   "cell_type": "markdown",
   "id": "3a6cf772",
   "metadata": {},
   "source": [
    "Заранее в папку с jupyter блокнотом поместим картинку для последующей обработки в jpg формате, назвав ее image. Откроем картинку для работы с помощью метода open()."
   ]
  },
  {
   "cell_type": "code",
   "execution_count": 2,
   "id": "647a64b9",
   "metadata": {},
   "outputs": [],
   "source": [
    "image = Image.open('image.jpg')"
   ]
  },
  {
   "cell_type": "markdown",
   "id": "5def5df1",
   "metadata": {},
   "source": [
    "## Пункт второй. Обработка исходного изображения\n",
    "\n",
    "В переменную x занесем нашу картинку в виде массива numpy. Выделим цветовые каналы в отдельные переменные с помощью слайсов. Заметим, что каналы будут иметь размерность, отличную от изначальной картинки, а значит, для явного и понятного обратного преобразования потребуется reshape(). Сделать это можно только после разложения SVD, поскольку SVD предназначено только для работы с матрицами."
   ]
  },
  {
   "cell_type": "code",
   "execution_count": 3,
   "id": "4d2e53d3",
   "metadata": {},
   "outputs": [],
   "source": [
    "x = np.array(image, dtype = np.float32)\n",
    "red = x[:,:,0]\n",
    "green = x[:,:,1]\n",
    "blue = x[:,:,2]"
   ]
  },
  {
   "cell_type": "code",
   "execution_count": 27,
   "id": "c032061f",
   "metadata": {},
   "outputs": [
    {
     "name": "stdout",
     "output_type": "stream",
     "text": [
      "(3840, 2160, 3)\n",
      "(3840, 2160)\n"
     ]
    }
   ],
   "source": [
    "print(x.shape)\n",
    "print(red.shape)"
   ]
  },
  {
   "cell_type": "markdown",
   "id": "3514c2e9",
   "metadata": {},
   "source": [
    "## Пункт третий. SVD-разложение RGB каналов\n",
    "\n",
    "На этом шаге достаточно применить функцию np.linalg.svd. Для экономии места мы будем получать не полные матрицы, а только требуемые для дальнейшей обработки их части."
   ]
  },
  {
   "cell_type": "code",
   "execution_count": 28,
   "id": "2f12041f",
   "metadata": {},
   "outputs": [],
   "source": [
    "U_red, S_red, V_red = np.linalg.svd(red, full_matrices = False)\n",
    "U_green, S_green, V_green = np.linalg.svd(green, full_matrices = False)\n",
    "U_blue, S_blue, V_blue = np.linalg.svd(blue, full_matrices = False)"
   ]
  },
  {
   "cell_type": "markdown",
   "id": "c78c1a78",
   "metadata": {},
   "source": [
    "## Пункт четвертый. Получение и сохранение изображений\n",
    "\n",
    "Чтобы создать изображения, соответствующие разному количеству r сингулярных значений, нам потребуется цикл по r. Можно заметить, что хотя сингулярных значений всего 2160, наибольшая разница между картинками видна на промежутке от 1 до 101. В дальнейшем разница практически не заметна. Поэтому я создала цикл, проходящий по полуинтервалу от 1 до 101 с более мелким шагом (10), а затем по полуинтервалу от 101 до 2160 с более крупным шагом (100).\n",
    "\n",
    "Соответствующую каналу матрицу мы получаем с помощью умножения U, S и V матриц по нужным нам строкам и столбцам. Однако по причине того, что сейчас мы работаем с типом np.float32, а должны будем затем перевести в np.uint8, может возникнуть переполнение, а значит, артефакты изображения. Для борьбы с ними мы все отрицательные значения заменяем на ноли, а превышающие 255 - на 255. Затем нужно добавить третье измерение каналу. Эти операции мы проводим со всеми тремя каналами.\n",
    "\n",
    "С помощью функции concatenate по оси 2 мы получаем матрицу, аналогичную той, что соответствует исходному изображению. Методом fromarray() и save() мы переводим получившиеся матрицы для каждого значения r в цветные картинки и сохраняем их в подкаталоге Images текущего каталога в формате png под именем, соответствующим значению r."
   ]
  },
  {
   "cell_type": "code",
   "execution_count": 25,
   "id": "d413ec07",
   "metadata": {
    "scrolled": true
   },
   "outputs": [],
   "source": [
    "for r in list(range(1,101,10))+list(range(101,2160,100)):\n",
    "    Y_r_red = U_red[:,:r].dot(np.diag(S_red[:r])).dot(V_red[:r,:]) \n",
    "    Y_r_red[Y_r_red < 0] = 0\n",
    "    Y_r_red[Y_r_red > 255] = 255\n",
    "    Y_r_red = Y_r_red.reshape(3840, 2160, 1)\n",
    "    Y_r_green = U_green[:,:r].dot(np.diag(S_green[:r])).dot(V_green[:r,:]) \n",
    "    Y_r_green[Y_r_green < 0] = 0\n",
    "    Y_r_green[Y_r_green > 255] = 255\n",
    "    Y_r_green = Y_r_green.reshape(3840, 2160, 1)\n",
    "    Y_r_blue = U_blue[:,:r].dot(np.diag(S_blue[:r])).dot(V_blue[:r,:]) \n",
    "    Y_r_blue[Y_r_blue < 0] = 0\n",
    "    Y_r_blue[Y_r_blue > 255] = 255\n",
    "    Y_r_blue = Y_r_blue.reshape(3840, 2160, 1)\n",
    "    Y_r = np.concatenate((np.concatenate((Y_r_red, Y_r_green), axis = 2), Y_r_blue), axis = 2)\n",
    "    Image.fromarray(np.asarray(Y_r, dtype = np.uint8)).save(f'Images\\\\{r}.png')"
   ]
  }
 ],
 "metadata": {
  "kernelspec": {
   "display_name": "Python 3 (ipykernel)",
   "language": "python",
   "name": "python3"
  },
  "language_info": {
   "codemirror_mode": {
    "name": "ipython",
    "version": 3
   },
   "file_extension": ".py",
   "mimetype": "text/x-python",
   "name": "python",
   "nbconvert_exporter": "python",
   "pygments_lexer": "ipython3",
   "version": "3.11.0b4"
  }
 },
 "nbformat": 4,
 "nbformat_minor": 5
}
