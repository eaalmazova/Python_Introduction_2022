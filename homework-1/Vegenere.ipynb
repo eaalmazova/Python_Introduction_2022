{
 "cells": [
  {
   "cell_type": "code",
   "execution_count": 10,
   "id": "22c935a5",
   "metadata": {},
   "outputs": [],
   "source": [
    "import sys\n",
    "text = ''\n",
    "key = ''\n",
    "stop = False"
   ]
  },
  {
   "cell_type": "code",
   "execution_count": 19,
   "id": "be9462a6",
   "metadata": {},
   "outputs": [],
   "source": [
    "def textwork():\n",
    "    global text\n",
    "    global key\n",
    "    print('Please, enter the number of abstracts of the text:')\n",
    "    abstract = int(input())\n",
    "    for i in range(abstract):\n",
    "        print('Please, enter the {} abstract of the text:'.format(i+1))\n",
    "        text += input()\n",
    "    print('Please, enter the number of abstracts of the key text:')\n",
    "    abstract = int(input())\n",
    "    for i in range(abstract):\n",
    "        print('Please, enter the {} abstract of the key text:'.format(i+1))\n",
    "        key += input()"
   ]
  },
  {
   "cell_type": "code",
   "execution_count": 20,
   "id": "8686404e",
   "metadata": {},
   "outputs": [],
   "source": [
    "def filework():\n",
    "    global text\n",
    "    global key\n",
    "    print('Please, enter the name of the txt file from the program folder:')\n",
    "    filename = input()\n",
    "    if filename.count('.txt') == 0:\n",
    "        filename=filename+'.txt'\n",
    "    print('Please, enter the number of abstracts of the text:')\n",
    "    abstract = int(input())\n",
    "    with open(filename) as f:\n",
    "        for i in range(abstract):\n",
    "            text += f.readline()\n",
    "        key = f.read()"
   ]
  },
  {
   "cell_type": "code",
   "execution_count": 21,
   "id": "f18da5af",
   "metadata": {},
   "outputs": [],
   "source": [
    "def check():\n",
    "    global key\n",
    "    if key == 'a' or key == 'A':\n",
    "        stop = True\n",
    "    if len(key)<len(text):\n",
    "        add = len(text)-len(key*(len(text)//len(key)))\n",
    "        key=key*(len(text)//len(key))+key[:add]\n",
    "    key=key.lower()"
   ]
  },
  {
   "cell_type": "code",
   "execution_count": 22,
   "id": "08ec2012",
   "metadata": {},
   "outputs": [],
   "source": [
    "def encrypt_vigenere(plaintext: str, keyword: str) -> str:\n",
    "    \"\"\"\n",
    "    Encrypts plaintext using a Vigenere cipher.\n",
    "\n",
    "    >>> encrypt_vigenere(\"PYTHON\", \"A\")\n",
    "    'PYTHON'\n",
    "    >>> encrypt_vigenere(\"python\", \"a\")\n",
    "    'python'\n",
    "    >>> encrypt_vigenere(\"ATTACKATDAWN\", \"LEMON\")\n",
    "    'LXFOPVEFRNHR'\n",
    "    \"\"\"\n",
    "    ciphertext = ''\n",
    "    check()\n",
    "    if stop:\n",
    "        return plaintext\n",
    "    for i in range(len(plaintext)):\n",
    "        if ord(plaintext[i])>=65 and ord(plaintext[i])<=90:\n",
    "            over = bool((ord(plaintext[i])+(ord(key[i])-97))//91)\n",
    "            ciphertext+=chr(ord(plaintext[i])+(ord(key[i])-97)-(90-65+1)*int(over))\n",
    "        elif ord(plaintext[i])>=97 and ord(plaintext[i])<=122:\n",
    "            over = bool((ord(plaintext[i])+(ord(key[i])-97))//123)\n",
    "            ciphertext+=chr(ord(plaintext[i])+(ord(key[i])-97)-(122-97+1)*int(over))\n",
    "        else:\n",
    "            ciphertext+=plaintext[i]\n",
    "    return ciphertext"
   ]
  },
  {
   "cell_type": "code",
   "execution_count": 23,
   "id": "330b4ee4",
   "metadata": {},
   "outputs": [],
   "source": [
    "def decrypt_vigenere(ciphertext: str, keyword: str) -> str:\n",
    "    \"\"\"\n",
    "    Decrypts a ciphertext using a Vigenere cipher.\n",
    "\n",
    "    >>> decrypt_vigenere(\"PYTHON\", \"A\")\n",
    "    'PYTHON'\n",
    "    >>> decrypt_vigenere(\"python\", \"a\")\n",
    "    'python'\n",
    "    >>> decrypt_vigenere(\"LXFOPVEFRNHR\", \"LEMON\")\n",
    "    'ATTACKATDAWN'\n",
    "    \"\"\"\n",
    "    plaintext = ''\n",
    "    check()\n",
    "    if stop:\n",
    "        return ciphertext\n",
    "    for i in range(len(ciphertext)):\n",
    "        if ord(ciphertext[i])>=65 and ord(ciphertext[i])<=90:\n",
    "            over = not bool((ord(ciphertext[i])-(ord(key[i])-97))//65)\n",
    "            plaintext+=chr(ord(ciphertext[i])-(ord(key[i])-97)+(90-65+1)*int(over))\n",
    "        elif ord(ciphertext[i])>=97 and ord(ciphertext[i])<=122:\n",
    "            over = not bool((ord(ciphertext[i])-(ord(key[i])-97))//97)\n",
    "            plaintext+=chr(ord(ciphertext[i])-(ord(key[i])-97)+(122-97+1)*int(over))\n",
    "        else:\n",
    "            plaintext+=ciphertext[i]\n",
    "    return plaintext"
   ]
  },
  {
   "cell_type": "code",
   "execution_count": 24,
   "id": "faa1cf5e",
   "metadata": {},
   "outputs": [],
   "source": [
    "def output(t):\n",
    "    out = ''\n",
    "    while out != 'n' or out != 'y':\n",
    "        print('Do you want to write the resulting text in a file? y/n')\n",
    "        out = input()\n",
    "        if out == 'n':\n",
    "            outputtext(t)\n",
    "            return\n",
    "        elif out == 'y':\n",
    "            print('Please, input the name of the txt file')\n",
    "            filename = input()\n",
    "            if filename.count('.txt') == 0:\n",
    "                filename=filename+'.txt'\n",
    "            with open(filename,'w') as f:\n",
    "                f.write(t)\n",
    "            return\n",
    "        else:\n",
    "            print('Please, try again.')"
   ]
  },
  {
   "cell_type": "code",
   "execution_count": 25,
   "id": "bec4cf7b",
   "metadata": {},
   "outputs": [],
   "source": [
    "def outputtext(t):\n",
    "    if ans[0]=='e':\n",
    "        print('Encrypted text:\\n{}'.format(t))\n",
    "    else:\n",
    "        print('Decrypted text:\\n{}'.format(t))"
   ]
  },
  {
   "cell_type": "code",
   "execution_count": null,
   "id": "d2677a4c",
   "metadata": {
    "scrolled": false
   },
   "outputs": [
    {
     "name": "stdout",
     "output_type": "stream",
     "text": [
      "Do you want to encrypt or decrypt? e/d\n",
      "e\n",
      "Do you want to open a file or work with a text? f/t\n",
      "t\n",
      "Please, enter the number of abstracts of the text:\n",
      "1\n",
      "Please, enter the 1 abstract of the text:\n",
      "I am Scotland. I love Scottish Fold!\n",
      "Please, enter the number of abstracts of the key text:\n",
      "1\n",
      "Please, enter the 1 abstract of the key text:\n"
     ]
    }
   ],
   "source": [
    "choice = False\n",
    "while not choice:\n",
    "    ans = ''\n",
    "    print('Do you want to encrypt or decrypt? e/d')\n",
    "    ans+=input()\n",
    "    print('Do you want to open a file or work with a text? f/t')\n",
    "    ans+=input()\n",
    "    if ans=='ef':\n",
    "        filework()\n",
    "        output(encrypt_vigenere(text,key))\n",
    "        choice = True\n",
    "    elif ans=='et':\n",
    "        textwork()\n",
    "        output(encrypt_vigenere(text,key))\n",
    "        choice = True\n",
    "    elif ans=='df':\n",
    "        filework()\n",
    "        output(decrypt_vigenere(text,key))\n",
    "        choice = True\n",
    "    elif ans=='dt':\n",
    "        textwork()\n",
    "        output(decrypt_vigenere(text,key))\n",
    "        choice = True\n",
    "    else:\n",
    "        print('Please, try again.')"
   ]
  },
  {
   "cell_type": "code",
   "execution_count": null,
   "id": "1995d237",
   "metadata": {},
   "outputs": [],
   "source": []
  }
 ],
 "metadata": {
  "kernelspec": {
   "display_name": "Python 3 (ipykernel)",
   "language": "python",
   "name": "python3"
  },
  "language_info": {
   "codemirror_mode": {
    "name": "ipython",
    "version": 3
   },
   "file_extension": ".py",
   "mimetype": "text/x-python",
   "name": "python",
   "nbconvert_exporter": "python",
   "pygments_lexer": "ipython3",
   "version": "3.9.12"
  }
 },
 "nbformat": 4,
 "nbformat_minor": 5
}
