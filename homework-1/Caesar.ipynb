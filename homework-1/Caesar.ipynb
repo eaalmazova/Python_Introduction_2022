{
 "cells": [
  {
   "cell_type": "code",
   "execution_count": 1,
   "id": "dd51bac8",
   "metadata": {},
   "outputs": [],
   "source": [
    "import sys\n",
    "text = ''"
   ]
  },
  {
   "cell_type": "code",
   "execution_count": 2,
   "id": "93c359f1",
   "metadata": {},
   "outputs": [],
   "source": [
    "def textwork():\n",
    "    global text\n",
    "    print('Please, enter the number of abstracts:')\n",
    "    abstract = int(input())\n",
    "    for i in range(abstract):\n",
    "        print('Please, enter the {} abstract of the text:'.format(i+1))\n",
    "        text += input()"
   ]
  },
  {
   "cell_type": "code",
   "execution_count": 3,
   "id": "128bc311",
   "metadata": {},
   "outputs": [],
   "source": [
    "def filework():\n",
    "    global text\n",
    "    print('Please, enter the name of the txt file from the program folder:')\n",
    "    filename = input()\n",
    "    if filename.count('.txt') == 0:\n",
    "        filename=filename+'.txt'\n",
    "    with open(filename) as f:\n",
    "        text = f.read()"
   ]
  },
  {
   "cell_type": "code",
   "execution_count": 4,
   "id": "3e57eb7d",
   "metadata": {},
   "outputs": [],
   "source": [
    "def encrypt_caesar(plaintext: str, shift: int = 3) -> str:\n",
    "    \"\"\"\n",
    "    Encrypts plaintext using a Caesar cipher.\n",
    "\n",
    "    >>> encrypt_caesar(\"PYTHON\")\n",
    "    'SBWKRQ'\n",
    "    >>> encrypt_caesar(\"python\")\n",
    "    'sbwkrq'\n",
    "    >>> encrypt_caesar(\"Python3.6\")\n",
    "    'Sbwkrq3.6'\n",
    "    >>> encrypt_caesar(\"\")\n",
    "    ''\n",
    "    \"\"\"\n",
    "    ciphertext = ''\n",
    "    for char in plaintext:\n",
    "        if ord(char)>=65 and ord(char)<=90:\n",
    "            over = bool((ord(char)+shift)//91)\n",
    "            ciphertext+=chr(ord(char)+shift-(90-65+1)*int(over))\n",
    "        elif ord(char)>=97 and ord(char)<=122:\n",
    "            over = bool((ord(char)+shift)//123)\n",
    "            ciphertext+=chr(ord(char)+shift-(122-97+1)*int(over))\n",
    "        else:\n",
    "            ciphertext+=char\n",
    "    return ciphertext"
   ]
  },
  {
   "cell_type": "code",
   "execution_count": 5,
   "id": "ce154140",
   "metadata": {},
   "outputs": [],
   "source": [
    "def decrypt_caesar(ciphertext: str, shift: int = 3) -> str:\n",
    "    \"\"\"\n",
    "    Decrypts a ciphertext using a Caesar cipher.\n",
    "\n",
    "    >>> decrypt_caesar(\"SBWKRQ\")\n",
    "    'PYTHON'\n",
    "    >>> decrypt_caesar(\"sbwkrq\")\n",
    "    'python'\n",
    "    >>> decrypt_caesar(\"Sbwkrq3.6\")\n",
    "    'Python3.6'\n",
    "    >>> decrypt_caesar(\"\")\n",
    "    ''\n",
    "    \"\"\"\n",
    "    plaintext = ''\n",
    "    for char in ciphertext:\n",
    "        if ord(char)>=65 and ord(char)<=90:\n",
    "            over = not bool((ord(char)-shift)//65)\n",
    "            plaintext+=chr(ord(char)-shift+(90-65+1)*int(over))\n",
    "        elif ord(char)>=97 and ord(char)<=122:\n",
    "            over = not bool((ord(char)-shift)//97)\n",
    "            plaintext+=chr(ord(char)-shift+(122-97+1)*int(over))\n",
    "        else:\n",
    "            plaintext+=char\n",
    "    return plaintext"
   ]
  },
  {
   "cell_type": "code",
   "execution_count": 6,
   "id": "1c2e79f7",
   "metadata": {},
   "outputs": [],
   "source": [
    "def output(t):\n",
    "    out = ''\n",
    "    while out != 'n' or out != 'y':\n",
    "        print('Do you want to write the resulting text in a file? y/n')\n",
    "        out = input()\n",
    "        if out == 'n':\n",
    "            outputtext(t)\n",
    "            return\n",
    "        elif out == 'y':\n",
    "            print('Please, input the name of the txt file')\n",
    "            filename = input()\n",
    "            if filename.count('.txt') == 0:\n",
    "                filename=filename+'.txt'\n",
    "            with open(filename,'w') as f:\n",
    "                f.write(t)\n",
    "            return\n",
    "        else:\n",
    "            print('Please, try again.')"
   ]
  },
  {
   "cell_type": "code",
   "execution_count": 7,
   "id": "1eab77a8",
   "metadata": {},
   "outputs": [],
   "source": [
    "def outputtext(t):\n",
    "    if ans[0]=='e':\n",
    "        print('Encrypted text:\\n{}'.format(t))\n",
    "    else:\n",
    "        print('Decrypted text:\\n{}'.format(t))"
   ]
  },
  {
   "cell_type": "code",
   "execution_count": null,
   "id": "69fcd7df",
   "metadata": {
    "scrolled": true
   },
   "outputs": [
    {
     "name": "stdout",
     "output_type": "stream",
     "text": [
      "Do you want to encrypt or decrypt? e/d\n"
     ]
    }
   ],
   "source": [
    "choice = False\n",
    "while not choice:\n",
    "    ans = ''\n",
    "    print('Do you want to encrypt or decrypt? e/d')\n",
    "    ans+=input()\n",
    "    print('Do you want to open a file or work with a text? f/t')\n",
    "    ans+=input()\n",
    "    if ans=='ef':\n",
    "        filework()\n",
    "        output(encrypt_caesar(text))\n",
    "        choice = True\n",
    "    elif ans=='et':\n",
    "        textwork()\n",
    "        output(encrypt_caesar(text))\n",
    "        choice = True\n",
    "    elif ans=='df':\n",
    "        filework()\n",
    "        output(decrypt_caesar(text))\n",
    "        choice = True\n",
    "    elif ans=='dt':\n",
    "        textwork()\n",
    "        output(decrypt_caesar(text))\n",
    "        choice = True\n",
    "    else:\n",
    "        print('Please, try again.')"
   ]
  },
  {
   "cell_type": "code",
   "execution_count": null,
   "id": "ee9ab84a",
   "metadata": {},
   "outputs": [],
   "source": []
  }
 ],
 "metadata": {
  "kernelspec": {
   "display_name": "Python 3 (ipykernel)",
   "language": "python",
   "name": "python3"
  },
  "language_info": {
   "codemirror_mode": {
    "name": "ipython",
    "version": 3
   },
   "file_extension": ".py",
   "mimetype": "text/x-python",
   "name": "python",
   "nbconvert_exporter": "python",
   "pygments_lexer": "ipython3",
   "version": "3.9.12"
  }
 },
 "nbformat": 4,
 "nbformat_minor": 5
}
