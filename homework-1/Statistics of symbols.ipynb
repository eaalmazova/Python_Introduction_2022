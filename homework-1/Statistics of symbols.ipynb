{
 "cells": [
  {
   "cell_type": "code",
   "execution_count": 1,
   "id": "c7657dc4",
   "metadata": {},
   "outputs": [],
   "source": [
    "import sys\n",
    "\n",
    "abc = {}\n",
    "abcsorted = {}\n",
    "charnum = 0\n",
    "lines = 0"
   ]
  },
  {
   "cell_type": "code",
   "execution_count": 2,
   "id": "94fc1256",
   "metadata": {},
   "outputs": [],
   "source": [
    "def filework():\n",
    "    global charnum\n",
    "    global lines\n",
    "    print('Please, enter the name of the txt file from the program folder:')\n",
    "    filename = input()\n",
    "    if filename.count('.txt') == 0:\n",
    "        filename=filename+'.txt'\n",
    "    with open(filename) as f:\n",
    "        lines = f.read().count('?')\n",
    "        f.seek(0)\n",
    "        lines += f.read().count('!')\n",
    "        f.seek(0)\n",
    "        lines += f.read().count('.')-2*f.read().count('...')\n",
    "        if lines == 0:\n",
    "            print('File is empty.')\n",
    "            sys.exit()\n",
    "        for key in range(32,127):\n",
    "            f.seek(0)\n",
    "            abc[key]=f.read().count(chr(key))\n",
    "            charnum+=abc[key]"
   ]
  },
  {
   "cell_type": "code",
   "execution_count": 3,
   "id": "55b277f5",
   "metadata": {},
   "outputs": [],
   "source": [
    "def textwork():\n",
    "    global charnum\n",
    "    global lines\n",
    "    text = ''\n",
    "    print('Please, enter the number of abstracts:')\n",
    "    abstract = int(input())\n",
    "    for i in range(abstract):\n",
    "        print('Please, enter the {} abstract of the text:'.format(i+1))\n",
    "        text += input()\n",
    "        print('\\n')\n",
    "    lines = text.count('?')\n",
    "    lines += text.count('!')\n",
    "    lines += text.count('.')-2*text.count('...')\n",
    "    if lines == 0:\n",
    "        print('File is empty.')\n",
    "        sys.exit()\n",
    "    for key in range(32,127):\n",
    "        abc[key]=text.count(chr(key))\n",
    "        charnum+=abc[key]"
   ]
  },
  {
   "cell_type": "code",
   "execution_count": 4,
   "id": "bbda7029",
   "metadata": {},
   "outputs": [],
   "source": [
    "def longoutput():\n",
    "    print('Total: {} symbol(s)'.format(charnum))\n",
    "    abcsorted = dict(sorted(abc.items(),key = lambda i: i[1], reverse=True))\n",
    "    for key in abcsorted.keys():\n",
    "        print(\"Symbol '{}' arose {} time(s), in average {} time(s) in a sentence\".format(chr(key),abc[key], abc[key]//lines))"
   ]
  },
  {
   "cell_type": "code",
   "execution_count": 5,
   "id": "57c01ca3",
   "metadata": {},
   "outputs": [],
   "source": [
    "def shortoutput():\n",
    "    print('Total: {} symbol(s)'.format(charnum))\n",
    "    abcsorted = dict(sorted(abc.items(),key = lambda i: i[1], reverse=True))\n",
    "    for key in abcsorted.keys():\n",
    "        if abc[key] != 0:\n",
    "            print(\"Symbol '{}' arose {} time(s), in average {} time(s) in a sentence\".format(chr(key),abc[key], abc[key]//lines))"
   ]
  },
  {
   "cell_type": "code",
   "execution_count": 6,
   "id": "495a2dbc",
   "metadata": {},
   "outputs": [
    {
     "name": "stdout",
     "output_type": "stream",
     "text": [
      "Do you want to open a file or work with a text? f/t\n",
      "f\n",
      "Please, enter the name of the txt file from the program folder:\n",
      "Tryout\n",
      "Do you want a short or long output? s/l\n",
      "s\n",
      "Total: 798 symbol(s)\n",
      "Symbol ' ' arose 151 time(s), in average 6 time(s) in a sentence\n",
      "Symbol 'e' arose 86 time(s), in average 3 time(s) in a sentence\n",
      "Symbol 't' arose 47 time(s), in average 1 time(s) in a sentence\n",
      "Symbol 'o' arose 45 time(s), in average 1 time(s) in a sentence\n",
      "Symbol 's' arose 40 time(s), in average 1 time(s) in a sentence\n",
      "Symbol 'n' arose 37 time(s), in average 1 time(s) in a sentence\n",
      "Symbol 'r' arose 37 time(s), in average 1 time(s) in a sentence\n",
      "Symbol 'a' arose 36 time(s), in average 1 time(s) in a sentence\n",
      "Symbol 'h' arose 36 time(s), in average 1 time(s) in a sentence\n",
      "Symbol 'i' arose 35 time(s), in average 1 time(s) in a sentence\n",
      "Symbol 'y' arose 27 time(s), in average 1 time(s) in a sentence\n",
      "Symbol 'l' arose 26 time(s), in average 1 time(s) in a sentence\n",
      "Symbol 'm' arose 22 time(s), in average 0 time(s) in a sentence\n",
      "Symbol '.' arose 20 time(s), in average 0 time(s) in a sentence\n",
      "Symbol 'c' arose 14 time(s), in average 0 time(s) in a sentence\n",
      "Symbol 'd' arose 14 time(s), in average 0 time(s) in a sentence\n",
      "Symbol 'w' arose 13 time(s), in average 0 time(s) in a sentence\n",
      "Symbol 'u' arose 12 time(s), in average 0 time(s) in a sentence\n",
      "Symbol 'I' arose 11 time(s), in average 0 time(s) in a sentence\n",
      "Symbol 'g' arose 11 time(s), in average 0 time(s) in a sentence\n",
      "Symbol 'v' arose 10 time(s), in average 0 time(s) in a sentence\n",
      "Symbol 'M' arose 7 time(s), in average 0 time(s) in a sentence\n",
      "Symbol 'p' arose 7 time(s), in average 0 time(s) in a sentence\n",
      "Symbol ',' arose 6 time(s), in average 0 time(s) in a sentence\n",
      "Symbol 'b' arose 5 time(s), in average 0 time(s) in a sentence\n",
      "Symbol '!' arose 4 time(s), in average 0 time(s) in a sentence\n",
      "Symbol 'H' arose 4 time(s), in average 0 time(s) in a sentence\n",
      "Symbol 'S' arose 4 time(s), in average 0 time(s) in a sentence\n",
      "Symbol 'f' arose 4 time(s), in average 0 time(s) in a sentence\n",
      "Symbol 'k' arose 4 time(s), in average 0 time(s) in a sentence\n",
      "Symbol 'N' arose 3 time(s), in average 0 time(s) in a sentence\n",
      "Symbol 'T' arose 3 time(s), in average 0 time(s) in a sentence\n",
      "Symbol '1' arose 2 time(s), in average 0 time(s) in a sentence\n",
      "Symbol 'B' arose 2 time(s), in average 0 time(s) in a sentence\n",
      "Symbol 'J' arose 2 time(s), in average 0 time(s) in a sentence\n",
      "Symbol 'Y' arose 2 time(s), in average 0 time(s) in a sentence\n",
      "Symbol '4' arose 1 time(s), in average 0 time(s) in a sentence\n",
      "Symbol '9' arose 1 time(s), in average 0 time(s) in a sentence\n",
      "Symbol 'E' arose 1 time(s), in average 0 time(s) in a sentence\n",
      "Symbol 'F' arose 1 time(s), in average 0 time(s) in a sentence\n",
      "Symbol 'G' arose 1 time(s), in average 0 time(s) in a sentence\n",
      "Symbol 'O' arose 1 time(s), in average 0 time(s) in a sentence\n",
      "Symbol 'P' arose 1 time(s), in average 0 time(s) in a sentence\n",
      "Symbol 'W' arose 1 time(s), in average 0 time(s) in a sentence\n",
      "Symbol 'j' arose 1 time(s), in average 0 time(s) in a sentence\n"
     ]
    }
   ],
   "source": [
    "choice = False\n",
    "\n",
    "print('Do you want to open a file or work with a text? f/t')\n",
    "while not choice:\n",
    "    answer = input()\n",
    "    if answer == 'file' or answer == 'File' or answer == 'file.' or answer == 'File.' or answer == 'f':\n",
    "        choice = True\n",
    "        filework()\n",
    "    elif answer == 'text' or answer == 'Text' or answer == 'text.' or answer == 'Text.' or answer == 't':\n",
    "        choice = True\n",
    "        textwork()\n",
    "    else:\n",
    "        print('Please, choose again')\n",
    "    \n",
    "choice = False\n",
    "\n",
    "print('Do you want a short or long output? s/l')\n",
    "while not choice:\n",
    "    answer = input()\n",
    "    if answer == 'short' or answer == 'Short' or answer == 'short.' or answer == 'Short.' or answer == 's':\n",
    "        choice = True\n",
    "        shortoutput()\n",
    "    elif answer == 'long' or answer == 'Long' or answer == 'long.' or answer == 'Long.' or answer == 'l':\n",
    "        choice = True\n",
    "        longoutput()\n",
    "    else:\n",
    "        print('Please, choose again')"
   ]
  },
  {
   "cell_type": "code",
   "execution_count": null,
   "id": "716a60d9",
   "metadata": {},
   "outputs": [],
   "source": []
  }
 ],
 "metadata": {
  "kernelspec": {
   "display_name": "Python 3 (ipykernel)",
   "language": "python",
   "name": "python3"
  },
  "language_info": {
   "codemirror_mode": {
    "name": "ipython",
    "version": 3
   },
   "file_extension": ".py",
   "mimetype": "text/x-python",
   "name": "python",
   "nbconvert_exporter": "python",
   "pygments_lexer": "ipython3",
   "version": "3.9.12"
  }
 },
 "nbformat": 4,
 "nbformat_minor": 5
}
